{
 "cells": [
  {
   "cell_type": "code",
   "execution_count": 32,
   "id": "35b30798",
   "metadata": {},
   "outputs": [],
   "source": [
    "import itertools\n",
    "import matplotlib.pyplot as plt\n",
    "import numpy as np"
   ]
  },
  {
   "cell_type": "markdown",
   "id": "6127280d",
   "metadata": {},
   "source": [
    "## Create Visibility graph"
   ]
  },
  {
   "cell_type": "code",
   "execution_count": 34,
   "id": "23f87e12",
   "metadata": {},
   "outputs": [
    {
     "data": {
      "image/png": "[encoded data removed]",
      "text/plain": [
       "<Figure size 432x288 with 1 Axes>"
      ]
     },
     "metadata": {
      "needs_background": "light"
     },
     "output_type": "display_data"
    }
   ],
   "source": [
    "import itertools\n",
    "import matplotlib.pyplot as plt\n",
    "\n",
    "\n",
    "#Creating polygonal environment \n",
    "coord = [[0,-1], [9,-1], [9,11], [0,11], [0,3],[5,3],[5,5],[1,5],[1,9],[8,9],[8,0],[0,0]]\n",
    "coord.append(coord[0])  \n",
    "\n",
    "# Goal Node\n",
    "coord1 = [[4,6],[4.06,6],[4.06,5.94],[4,5.94]]\n",
    "coord1.append(coord1[0])  \n",
    "\n",
    "# Start Node\n",
    "coord2 = [[2,-2],[2,-1.94],[2.06,-2],[2.06,-2]]\n",
    "coord2.append(coord2[0]) \n",
    "\n",
    "coord4 = v\n",
    "#Creating Visibility Graph\n",
    "l=[[[0,-1],[9,-1]],\n",
    "   [[0,0],[2,-2],[0,3],[0,11],[9,-1]],\n",
    "   [[0,-1],[2,-2],[9,11]],\n",
    "   [[9,-1],[0,11]],\n",
    "   [[0,0],[0,-1],[0,3]],\n",
    "   [[0,0],[5,3],[0,11],[0,-1],[8,0]],\n",
    "   [[0,0],[0,3],[8,0],[8,9],[5,5]],\n",
    "   [[5,5],[8,0],[5,3],[4,6],[1,5],[1,9],[8,9]],\n",
    "   [[1,9],[4,6],[8,9],[5,5]],\n",
    "   [[8,9],[5,5],[1,5],[4,6]],\n",
    "   [[5,3],[5,5],[5,3],[1,5],[8,0],[4,6]],\n",
    "   [[1,9],[1,5],[8,9],[5,5]],\n",
    "   [[8,9],[5,3],[5,5],[0,3],[0,0]],\n",
    "   [[0,3],[5,3],[8,0],[0,-1]]]\n",
    "c=[[2,-2],[0,-1],[9,-1],[9,11],[0,11],[0,3],[5,3],[5,5],[1,5],[1,9],[8,9],[4,6],[8,0],[0,0]]\n",
    "coord3=[]\n",
    "for i in range(len(c)):\n",
    "    for k in l[i]:\n",
    "        coord3.append((c[i],k))\n",
    "    \n",
    "coord3 = list(itertools.chain(*coord3))\n",
    "\n",
    "xc, yc = zip(*coord3)\n",
    "#xs, ys = zip(*coord) # create lists of x and y values\n",
    "#xa, ya = zip(*coord1)\n",
    "#xb, yb = zip(*coord2)\n",
    "xd, yd = zip(*coord4)\n",
    "plt.figure()\n",
    "#plt.plot(xs,ys) \n",
    "#plt.plot(xa,ya)\n",
    "#plt.plot(xb,yb)\n",
    "plt.plot(xc,yc) \n",
    "plt.xlim(-7,13)\n",
    "plt.ylim(-7,13)\n",
    "plt.show() "
   ]
  },
  {
   "cell_type": "markdown",
   "id": "61513ee4",
   "metadata": {},
   "source": [
    "## Creating Adjacency graph"
   ]
  },
  {
   "cell_type": "code",
   "execution_count": 35,
   "id": "d7b01592",
   "metadata": {},
   "outputs": [],
   "source": [
    "#takes two points computes distance\n",
    "\n",
    "def disttp(a,b):\n",
    "    squared_value= np.sqrt((b[1]-a[1])**2 + (b[0]-a[0])**2)\n",
    "    return squared_value"
   ]
  },
  {
   "cell_type": "code",
   "execution_count": 36,
   "id": "2b37a67b",
   "metadata": {},
   "outputs": [],
   "source": [
    "l=[[[0,-1],[9,-1]],\n",
    "   [[0,0],[2,-2],[0,3],[0,11],[9,-1]],\n",
    "   [[0,-1],[2,-2],[9,11]],\n",
    "   [[9,-1],[0,11]],\n",
    "   [[0,0],[0,-1],[0,3]],\n",
    "   [[0,0],[5,3],[0,11],[0,-1],[8,0]],\n",
    "   [[0,0],[0,3],[8,0],[8,9],[5,5]],\n",
    "   [[5,5],[8,0],[5,3],[4,6],[1,5],[1,9],[8,9]],\n",
    "   [[1,9],[4,6],[8,9],[5,5]],\n",
    "   [[8,9],[5,5],[1,5],[4,6]],\n",
    "   [[5,3],[5,5],[5,3],[1,5],[8,0],[4,6]],\n",
    "   [[1,9],[1,5],[8,9],[5,5]],\n",
    "   [[8,9],[5,3],[5,5],[0,3],[0,0]],\n",
    "   [[0,3],[5,3],[8,0],[0,-1]]]\n",
    "\n",
    "m=['A','B','C','D','E','F','G','H','I','J','K','L','M','N']\n",
    "c=[[2,-2],[0,-1],[9,-1],[9,11],[0,11],[0,3],[5,3],[5,5],[1,5],[1,9],[8,9],[4,6],[8,0],[0,0]]\n",
    "dict={}\n",
    "for i in range(len(m)):\n",
    "    dict[m[i]] = c[i]"
   ]
  },
  {
   "cell_type": "code",
   "execution_count": 37,
   "id": "d7c3a6e9",
   "metadata": {},
   "outputs": [],
   "source": [
    "key_list = list(dict.keys())\n",
    "val_list = list(dict.values())\n",
    " \n",
    "adj_list={}\n",
    "for i in range(len(c)):\n",
    "    temp=[]\n",
    "    for j in l[i]:\n",
    "        position = val_list.index(j)\n",
    "        \n",
    "        dist = disttp(c[i],j)\n",
    "        temp.append((key_list[position],dist))\n",
    "        \n",
    "    adj_list[m[i]]=temp"
   ]
  },
  {
   "cell_type": "code",
   "execution_count": 20,
   "id": "9361d719",
   "metadata": {},
   "outputs": [
    {
     "data": {
      "text/plain": [
       "{'A': [('B', 2.23606797749979), ('C', 7.0710678118654755)],\n",
       " 'B': [('N', 1.0),\n",
       "  ('A', 2.23606797749979),\n",
       "  ('F', 4.0),\n",
       "  ('E', 12.0),\n",
       "  ('C', 9.0)],\n",
       " 'C': [('B', 9.0), ('A', 7.0710678118654755), ('D', 12.0)],\n",
       " 'D': [('C', 12.0), ('E', 9.0)],\n",
       " 'E': [('N', 11.0), ('B', 12.0), ('F', 8.0)],\n",
       " 'F': [('N', 3.0),\n",
       "  ('G', 5.0),\n",
       "  ('E', 8.0),\n",
       "  ('B', 4.0),\n",
       "  ('M', 8.54400374531753)],\n",
       " 'G': [('N', 5.830951894845301),\n",
       "  ('F', 5.0),\n",
       "  ('M', 4.242640687119285),\n",
       "  ('K', 6.708203932499369),\n",
       "  ('H', 2.0)],\n",
       " 'H': [('H', 0.0),\n",
       "  ('M', 5.830951894845301),\n",
       "  ('G', 2.0),\n",
       "  ('L', 1.4142135623730951),\n",
       "  ('I', 4.0),\n",
       "  ('J', 5.656854249492381),\n",
       "  ('K', 5.0)],\n",
       " 'I': [('J', 4.0),\n",
       "  ('L', 3.1622776601683795),\n",
       "  ('K', 8.06225774829855),\n",
       "  ('H', 4.0)],\n",
       " 'J': [('K', 7.0),\n",
       "  ('H', 5.656854249492381),\n",
       "  ('I', 4.0),\n",
       "  ('L', 4.242640687119285)],\n",
       " 'K': [('G', 6.708203932499369),\n",
       "  ('H', 5.0),\n",
       "  ('G', 6.708203932499369),\n",
       "  ('I', 8.06225774829855),\n",
       "  ('M', 9.0),\n",
       "  ('L', 5.0)],\n",
       " 'L': [('J', 4.242640687119285),\n",
       "  ('I', 3.1622776601683795),\n",
       "  ('K', 5.0),\n",
       "  ('H', 1.4142135623730951)],\n",
       " 'M': [('K', 9.0),\n",
       "  ('G', 4.242640687119285),\n",
       "  ('H', 5.830951894845301),\n",
       "  ('F', 8.54400374531753),\n",
       "  ('N', 8.0)],\n",
       " 'N': [('F', 3.0), ('G', 5.830951894845301), ('M', 8.0), ('B', 1.0)]}"
      ]
     },
     "execution_count": 20,
     "metadata": {},
     "output_type": "execute_result"
    }
   ],
   "source": [
    "adj_list"
   ]
  },
  {
   "cell_type": "markdown",
   "id": "90d15fbc",
   "metadata": {},
   "source": [
    "## A* algorithm code"
   ]
  },
  {
   "cell_type": "code",
   "execution_count": 38,
   "id": "63c24251",
   "metadata": {},
   "outputs": [],
   "source": [
    "from collections import deque\n",
    "\n",
    "class Graph:\n",
    "    # example of adjacency list (or rather map)\n",
    "    # adjacency_list = {\n",
    "    # 'A': [('B', 1), ('C', 3), ('D', 7)],\n",
    "    # 'B': [('D', 5)],\n",
    "    # 'C': [('D', 12)]\n",
    "    # }\n",
    "\n",
    "    def __init__(self, adjacency_list):\n",
    "        self.adjacency_list = adjacency_list\n",
    "\n",
    "    def get_neighbors(self, v):\n",
    "        return self.adjacency_list[v]\n",
    "\n",
    "    # heuristic function with equal values for all nodes\n",
    "    def h(self, n):\n",
    "        #m=['A','B','C','D','E','F','G','H','I','J','K','L','M','N']\n",
    "        H={'A':6,'B':4,'C':4,'D':2.5,'E':2.7,'F':2.7,'G':0.5,'H':0.37,'I':0.6,'J':0.7,'K':0.7,'L':0,'M':3.75,'N':4}\n",
    "        #for i in range(len(m)):\n",
    "         #   H[m[i]]=0\n",
    "        \n",
    "        \n",
    "        return H[n]\n",
    "\n",
    "    def a_star_algorithm(self, start_node, stop_node):\n",
    "        # open_list is a list of nodes which have been visited, but who's neighbors\n",
    "        # haven't all been inspected, starts off with the start node\n",
    "        # closed_list is a list of nodes which have been visited\n",
    "        # and who's neighbors have been inspected\n",
    "        open_list = set([start_node])\n",
    "        closed_list = set([])\n",
    "\n",
    "        # g contains current distances from start_node to all other nodes\n",
    "        # the default value (if it's not found in the map) is +infinity\n",
    "        g = {}\n",
    "\n",
    "        g[start_node] = 0\n",
    "\n",
    "        # parents contains an adjacency map of all nodes\n",
    "        parents = {}\n",
    "        parents[start_node] = start_node\n",
    "\n",
    "        while len(open_list) > 0:\n",
    "            n = None\n",
    "\n",
    "            # find a node with the lowest value of f() - evaluation function\n",
    "            for v in open_list:\n",
    "                if n == None or g[v] + self.h(v) < g[n] + self.h(n):\n",
    "                    n = v;\n",
    "\n",
    "            if n == None:\n",
    "                print('Path does not exist!')\n",
    "                return None\n",
    "\n",
    "            # if the current node is the stop_node\n",
    "            # then we begin reconstructin the path from it to the start_node\n",
    "            if n == stop_node:\n",
    "                reconst_path = []\n",
    "\n",
    "                while parents[n] != n:\n",
    "                    reconst_path.append(n)\n",
    "                    n = parents[n]\n",
    "\n",
    "                reconst_path.append(start_node)\n",
    "\n",
    "                reconst_path.reverse()\n",
    "\n",
    "                print('Path found: {}'.format(reconst_path))\n",
    "                return reconst_path\n",
    "\n",
    "            # for all neighbors of the current node do\n",
    "            for (m, weight) in self.get_neighbors(n):\n",
    "                # if the current node isn't in both open_list and closed_list\n",
    "                # add it to open_list and note n as it's parent\n",
    "                if m not in open_list and m not in closed_list:\n",
    "                    open_list.add(m)\n",
    "                    parents[m] = n\n",
    "                    g[m] = g[n] + weight\n",
    "\n",
    "                # otherwise, check if it's quicker to first visit n, then m\n",
    "                # and if it is, update parent data and g data\n",
    "                # and if the node was in the closed_list, move it to open_list\n",
    "                else:\n",
    "                    if g[m] > g[n] + weight:\n",
    "                        g[m] = g[n] + weight\n",
    "                        parents[m] = n\n",
    "\n",
    "                        if m in closed_list:\n",
    "                            closed_list.remove(m)\n",
    "                            open_list.add(m)\n",
    "\n",
    "            # remove n from the open_list, and add it to closed_list\n",
    "            # because all of his neighbors were inspected\n",
    "            open_list.remove(n)\n",
    "            closed_list.add(n)\n",
    "\n",
    "        print('Path does not exist!')\n",
    "        return None"
   ]
  },
  {
   "cell_type": "markdown",
   "id": "cedd7b47",
   "metadata": {},
   "source": [
    "## gives shortest path"
   ]
  },
  {
   "cell_type": "code",
   "execution_count": 39,
   "id": "e19ffcd8",
   "metadata": {},
   "outputs": [
    {
     "name": "stdout",
     "output_type": "stream",
     "text": [
      "Path found: ['A', 'B', 'N', 'G', 'H', 'L']\n"
     ]
    }
   ],
   "source": [
    "graph1 = Graph(adj_list)\n",
    "k=graph1.a_star_algorithm('A', 'L')"
   ]
  },
  {
   "cell_type": "code",
   "execution_count": 40,
   "id": "7f9ccd32",
   "metadata": {},
   "outputs": [],
   "source": [
    "v = [dict[key] for key in k]"
   ]
  },
  {
   "cell_type": "code",
   "execution_count": 41,
   "id": "35f32e3d",
   "metadata": {},
   "outputs": [
    {
     "data": {
      "text/plain": [
       "[[2, -2], [0, -1], [0, 0], [5, 3], [5, 5], [4, 6]]"
      ]
     },
     "execution_count": 41,
     "metadata": {},
     "output_type": "execute_result"
    }
   ],
   "source": [
    "#coordinates of vertex that lead to shortest path\n",
    "v"
   ]
  },
  {
   "cell_type": "markdown",
   "id": "f2529ea1",
   "metadata": {},
   "source": [
    "## plot everything together"
   ]
  },
  {
   "cell_type": "code",
   "execution_count": 43,
   "id": "13214043",
   "metadata": {},
   "outputs": [],
   "source": [
    "#Creating polygonal environment \n",
    "coord = [[0,-1], [9,-1], [9,11], [0,11], [0,3],[5,3],[5,5],[1,5],[1,9],[8,9],[8,0],[0,0]]\n",
    "coord.append(coord[0])  \n",
    "\n",
    "# Goal Node\n",
    "coord1 = [[4,6],[4.06,6],[4.06,5.94],[4,5.94]]\n",
    "coord1.append(coord1[0])  \n",
    "\n",
    "# Start Node\n",
    "coord2 = [[2,-2],[2,-1.94],[2.06,-2],[2.06,-2]]\n",
    "coord2.append(coord2[0]) \n",
    "\n",
    "#optimal path coordinates of vertexes that froms the optimal path\n",
    "coord4 = v\n",
    "\n",
    "#Creating Visibility Graph\n",
    "l=[[[0,-1],[9,-1]],\n",
    "   [[0,0],[2,-2],[0,3],[0,11],[9,-1]],\n",
    "   [[0,-1],[2,-2],[9,11]],\n",
    "   [[9,-1],[0,11]],\n",
    "   [[0,0],[0,-1],[0,3]],\n",
    "   [[0,0],[5,3],[0,11],[0,-1],[8,0]],\n",
    "   [[0,0],[0,3],[8,0],[8,9],[5,5]],\n",
    "   [[5,5],[8,0],[5,3],[4,6],[1,5],[1,9],[8,9]],\n",
    "   [[1,9],[4,6],[8,9],[5,5]],\n",
    "   [[8,9],[5,5],[1,5],[4,6]],\n",
    "   [[5,3],[5,5],[5,3],[1,5],[8,0],[4,6]],\n",
    "   [[1,9],[1,5],[8,9],[5,5]],\n",
    "   [[8,9],[5,3],[5,5],[0,3],[0,0]],\n",
    "   [[0,3],[5,3],[8,0],[0,-1]]]\n",
    "c=[[2,-2],[0,-1],[9,-1],[9,11],[0,11],[0,3],[5,3],[5,5],[1,5],[1,9],[8,9],[4,6],[8,0],[0,0]]\n",
    "coord3=[]\n",
    "for i in range(len(c)):\n",
    "    for k in l[i]:\n",
    "        coord3.append((c[i],k))\n",
    "    \n",
    "coord3 = list(itertools.chain(*coord3))"
   ]
  },
  {
   "cell_type": "code",
   "execution_count": 44,
   "id": "ac355d9c",
   "metadata": {},
   "outputs": [
    {
     "data": {
      "text/plain": [
       "Text(0.5, 1.0, 'Optimal Path in Environment')"
      ]
     },
     "execution_count": 44,
     "metadata": {},
     "output_type": "execute_result"
    },
    {
     "data": {
      "image/png": "[encoded data removed]",
      "text/plain": [
       "<Figure size 720x720 with 4 Axes>"
      ]
     },
     "metadata": {
      "needs_background": "light"
     },
     "output_type": "display_data"
    }
   ],
   "source": [
    "import matplotlib.pyplot as plt\n",
    "import numpy as np\n",
    "import math \n",
    "figure, axis = plt.subplots(2, 2,figsize=(10, 10))\n",
    "\n",
    "xs, ys = zip(*coord) \n",
    "xa, ya = zip(*coord1)\n",
    "xb, yb = zip(*coord2)\n",
    "xd, yd = zip(*coord4)\n",
    "xc, yc = zip(*coord3)\n",
    "\n",
    "axis[0, 0].plot(xa,ya)\n",
    "axis[0, 0].plot(xs,ys)\n",
    "axis[0, 0].plot(xb,yb)\n",
    "axis[0, 0].set_title(\"Environment\")\n",
    "  \n",
    "# Visibility graph\n",
    "axis[0, 1].plot(xc, yc)\n",
    "axis[0, 1].set_title(\"Visibility Graph\")\n",
    "  \n",
    "# optimal path\n",
    "axis[1, 0].plot(xd,yd)\n",
    "axis[1, 0].set_title(\"Optimal Path\")\n",
    "  \n",
    "#Environment and optimal path\n",
    "axis[1, 1].plot(xd,yd)\n",
    "axis[1, 1].plot(xa,ya)\n",
    "axis[1, 1].plot(xs,ys)\n",
    "axis[1, 1].plot(xb,yb)\n",
    "axis[1, 1].set_title(\"Optimal Path in Environment\")\n",
    "  "
   ]
  },
  {
   "cell_type": "markdown",
   "id": "2b755b98",
   "metadata": {},
   "source": [
    "Bug 0 algorithm doesn't reach goal at all but using A* we are not only able"
   ]
  },
  {
   "cell_type": "code",
   "execution_count": 50,
   "id": "b954037f",
   "metadata": {},
   "outputs": [
    {
     "data": {
      "image/png": "[encoded data removed]",
      "text/plain": [
       "<Figure size 432x288 with 1 Axes>"
      ]
     },
     "metadata": {
      "needs_background": "light"
     },
     "output_type": "display_data"
    }
   ],
   "source": [
    "#Creating polygonal environment \n",
    "coord = [[0,-1], [9,-1], [9,11], [0,11], [0,3],[5,3],[5,5],[1,5],[1,9],[8,9],[8,0],[0,0]]\n",
    "coord.append(coord[0])  \n",
    "\n",
    "# Goal Node\n",
    "coord1 = [[4,6],[4.06,6],[4.06,5.94],[4,5.94]]\n",
    "coord1.append(coord1[0])  \n",
    "\n",
    "# Start Node\n",
    "coord2 = [[2,-2],[2,-1.94],[2.06,-2],[2.06,-2]]\n",
    "coord2.append(coord2[0]) \n",
    "\n",
    "#optimal path coordinates of vertexes that froms the optimal path\n",
    "coord4 = v\n",
    "\n",
    "#Bug algorithm path\n",
    "coord5=[[2,-2],[2,-0.5],[-0.5,-1],[-0.5,-0.5],[2.5,2.7],[-0.5,3],[-0.5,11.5],[9.5,11.5],[9.5,-1],[2,-0.5]]\n",
    "\n",
    "xs, ys = zip(*coord) \n",
    "xa, ya = zip(*coord1)\n",
    "xb, yb = zip(*coord2)\n",
    "xd, yd = zip(*coord4)\n",
    "xe, ye = zip(*coord5)\n",
    "\n",
    "plt.figure() \n",
    "\n",
    "plt.plot(xb,yb)\n",
    "plt.plot(xa,ya)\n",
    "plt.plot(xs,ys)\n",
    "plt.plot(xd,yd)\n",
    "plt.plot(xe,ye)\n",
    "\n",
    "plt.xlim(-7,13)\n",
    "plt.ylim(-7,13)\n",
    "plt.show() "
   ]
  },
  {
   "cell_type": "code",
   "execution_count": null,
   "id": "e42d3afb",
   "metadata": {},
   "outputs": [],
   "source": []
  }
 ],
 "metadata": {
  "kernelspec": {
   "display_name": "Python 3 (ipykernel)",
   "language": "python",
   "name": "python3"
  },
  "language_info": {
   "codemirror_mode": {
    "name": "ipython",
    "version": 3
   },
   "file_extension": ".py",
   "mimetype": "text/x-python",
   "name": "python",
   "nbconvert_exporter": "python",
   "pygments_lexer": "ipython3",
   "version": "3.9.12"
  }
 },
 "nbformat": 4,
 "nbformat_minor": 5
}
