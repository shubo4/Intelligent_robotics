{
 "cells": [
  {
   "cell_type": "markdown",
   "id": "a8cb2406",
   "metadata": {},
   "source": [
    "## Q-3"
   ]
  },
  {
   "cell_type": "code",
   "execution_count": 6,
   "id": "61a139d1",
   "metadata": {},
   "outputs": [
    {
     "data": {
      "image/png": "[encoded data removed]",
      "text/plain": [
       "<Figure size 432x288 with 1 Axes>"
      ]
     },
     "metadata": {
      "needs_background": "light"
     },
     "output_type": "display_data"
    }
   ],
   "source": [
    "import itertools\n",
    "import matplotlib.pyplot as plt\n",
    "\n",
    "\n",
    "#Creating polygonal environment \n",
    "coord = [[0,-1], [9,-1], [9,11], [0,11], [0,3],[5,3],[5,5],[1,5],[1,9],[8,9],[8,0],[0,0]]\n",
    "coord.append(coord[0])  \n",
    "\n",
    "# Goal Node\n",
    "coord1 = [[4,6],[4.06,6],[4.06,5.94],[4,5.94]]\n",
    "coord1.append(coord1[0])  \n",
    "\n",
    "# Start Node\n",
    "coord2 = [[2,-2],[2,-1.94],[2.06,-2],[2.06,-2]]\n",
    "coord2.append(coord2[0]) \n",
    "\n",
    "#Creating Visibility Graph\n",
    "\n",
    "l=[[[0,-1],[9,-1]],\n",
    "   [[0,0],[9,-1]],\n",
    "   [[9,11]],\n",
    "   [[0,11]],\n",
    "   [[0,3]],\n",
    "   [[0,0],[5,3],[8,0]],\n",
    "   [[0,0],[8,0],[8,9],[5,5]],\n",
    "   [[5,5],[8,0],[8,9]],\n",
    "   [[1,9],[4,6],[8,9],[5,5]],\n",
    "   [[8,9],[5,5],[4,6]],\n",
    "   [[5,3],[5,5],[1,5],[8,0],[4,6]],\n",
    "   [[5,5]],\n",
    "   [[0,0]],\n",
    "   [[0,-1]]]\n",
    "c=[[2,-2],[0,-1],[9,-1],[9,11],[0,11],[0,3],[5,3],[5,5],[1,5],[1,9],[8,9],[4,6],[8,0],[0,0]]\n",
    "coord3=[]\n",
    "for i in range(len(c)):\n",
    "    for k in l[i]:\n",
    "        coord3.append((c[i],k))\n",
    "    \n",
    "coord3 = list(itertools.chain(*coord3))\n",
    "\n",
    "xc, yc = zip(*coord3)\n",
    "xs, ys = zip(*coord) # create lists of x and y values\n",
    "xa, ya = zip(*coord1)\n",
    "xb, yb = zip(*coord2)\n",
    "\n",
    "short_path = [[2, -2], [0, -1], [0, 0], [5, 3], [5, 5], [4,6]]\n",
    "\n",
    "bug0_path = [[2, -2], [0, -1], [0, 0], [8, 0], [8, 9], [1, 9], [1, 5], [5, 5], [5, 3],\n",
    "            [0, 3], [0, 11], [9, 11], [9, -1], [0, -1]]\n",
    "    \n",
    "# coord_short = list(itertools.chain(*short_path))\n",
    "\n",
    "xcor, ycor = zip(*short_path)\n",
    "xbug0, ybug0 = zip(*bug0_path)\n",
    "\n",
    "plt.figure()\n",
    "plt.plot(xs,ys) \n",
    "plt.plot(xa,ya)\n",
    "plt.plot(xb,yb)\n",
    "plt.plot(xc,yc)\n",
    "plt.plot(xcor, ycor, c='blue')\n",
    "plt.plot(xbug0, ybug0, c='green')\n",
    "plt.xlim(-7,13)\n",
    "plt.ylim(-7,13)\n",
    "plt.show() "
   ]
  },
  {
   "cell_type": "markdown",
   "id": "051f76d8",
   "metadata": {},
   "source": [
    "## Q-7"
   ]
  },
  {
   "cell_type": "code",
   "execution_count": 45,
   "id": "d8e8ea51",
   "metadata": {},
   "outputs": [],
   "source": [
    "m=['A','B','C','D','E','F','G','H','I','J','K','L','M','N']\n",
    "c=[[2,-2],[0,-1],[9,-1],[9,11],[0,11],[0,3],[5,3],[5,5],[1,5],[1,9],[8,9],[4,6],[8,0],[0,0]]\n",
    "dict={}\n",
    "for i in range(len(m)):\n",
    "    dict[m[i]] = c[i]"
   ]
  },
  {
   "cell_type": "code",
   "execution_count": 46,
   "id": "46c66ce5",
   "metadata": {},
   "outputs": [
    {
     "data": {
      "text/plain": [
       "{'A': [2, -2],\n",
       " 'B': [0, -1],\n",
       " 'C': [9, -1],\n",
       " 'D': [9, 11],\n",
       " 'E': [0, 11],\n",
       " 'F': [0, 3],\n",
       " 'G': [5, 3],\n",
       " 'H': [5, 5],\n",
       " 'I': [1, 5],\n",
       " 'J': [1, 9],\n",
       " 'K': [8, 9],\n",
       " 'L': [4, 6],\n",
       " 'M': [8, 0],\n",
       " 'N': [0, 0]}"
      ]
     },
     "execution_count": 46,
     "metadata": {},
     "output_type": "execute_result"
    }
   ],
   "source": [
    "dict"
   ]
  },
  {
   "cell_type": "code",
   "execution_count": 9,
   "id": "c0a6dc4e",
   "metadata": {},
   "outputs": [],
   "source": [
    "#takes two points computes distance\n",
    "import numpy as np\n",
    "def disttp(a,b):\n",
    "    squared_value= np.sqrt((b[1]-a[1])**2 + (b[0]-a[0])**2)\n",
    "    return squared_value"
   ]
  },
  {
   "cell_type": "code",
   "execution_count": 10,
   "id": "29179baa",
   "metadata": {},
   "outputs": [
    {
     "name": "stdout",
     "output_type": "stream",
     "text": [
      "C\n"
     ]
    }
   ],
   "source": [
    "key_list = list(dict.keys())\n",
    "val_list = list(dict.values())\n",
    " \n",
    "# print key with val 100\n",
    "position = val_list.index(c[2])\n",
    "print(key_list[position])"
   ]
  },
  {
   "cell_type": "code",
   "execution_count": 11,
   "id": "bd7695aa",
   "metadata": {},
   "outputs": [],
   "source": [
    "l=[[[0,-1],[9,-1]],\n",
    "   [[0,0],[9,-1]],\n",
    "   [[9,11]],\n",
    "   [[0,11]],\n",
    "   [[0,3]],\n",
    "   [[0,0],[5,3],[8,0]],\n",
    "   [[0,0],[8,0],[8,9],[5,5]],\n",
    "   [[5,5],[8,0],[8,9]],\n",
    "   [[1,9],[4,6],[8,9],[5,5]],\n",
    "   [[8,9],[5,5],[4,6]],\n",
    "   [[5,3],[5,5],[1,5],[8,0],[4,6]],\n",
    "   [[5,5]],\n",
    "   [[0,0]],\n",
    "   [[0,-1]],\n",
    " ]\n",
    "\n",
    "m=['A','B','C','D','E','F','G','H','I','J','K','L','M','N']\n",
    "c=[[2,-2],[0,-1],[9,-1],[9,11],[0,11],[0,3],[5,3],[5,5],[1,5],[1,9],[8,9],[4,6],[8,0],[0,0]]\n",
    "dict={}\n",
    "for i in range(len(m)):\n",
    "    dict[m[i]] = c[i]"
   ]
  },
  {
   "cell_type": "code",
   "execution_count": 12,
   "id": "cbc47c8b",
   "metadata": {},
   "outputs": [],
   "source": [
    "key_list = list(dict.keys())\n",
    "val_list = list(dict.values())\n",
    " \n",
    "adj_list={}\n",
    "for i in range(len(c)):\n",
    "    temp=[]\n",
    "    for j in l[i]:\n",
    "        position = val_list.index(j)\n",
    "        \n",
    "        dist = disttp(c[i],j)\n",
    "        temp.append((key_list[position],dist))\n",
    "        \n",
    "    adj_list[m[i]]=temp"
   ]
  },
  {
   "cell_type": "code",
   "execution_count": 13,
   "id": "f92041de",
   "metadata": {},
   "outputs": [
    {
     "data": {
      "text/plain": [
       "{'A': [('B', 2.23606797749979), ('C', 7.0710678118654755)],\n",
       " 'B': [('N', 1.0), ('C', 9.0)],\n",
       " 'C': [('D', 12.0)],\n",
       " 'D': [('E', 9.0)],\n",
       " 'E': [('F', 8.0)],\n",
       " 'F': [('N', 3.0), ('G', 5.0), ('M', 8.54400374531753)],\n",
       " 'G': [('N', 5.830951894845301),\n",
       "  ('M', 4.242640687119285),\n",
       "  ('K', 6.708203932499369),\n",
       "  ('H', 2.0)],\n",
       " 'H': [('H', 0.0), ('M', 5.830951894845301), ('K', 5.0)],\n",
       " 'I': [('J', 4.0),\n",
       "  ('L', 3.1622776601683795),\n",
       "  ('K', 8.06225774829855),\n",
       "  ('H', 4.0)],\n",
       " 'J': [('K', 7.0), ('H', 5.656854249492381), ('L', 4.242640687119285)],\n",
       " 'K': [('G', 6.708203932499369),\n",
       "  ('H', 5.0),\n",
       "  ('I', 8.06225774829855),\n",
       "  ('M', 9.0),\n",
       "  ('L', 5.0)],\n",
       " 'L': [('H', 1.4142135623730951)],\n",
       " 'M': [('N', 8.0)],\n",
       " 'N': [('B', 1.0)]}"
      ]
     },
     "execution_count": 13,
     "metadata": {},
     "output_type": "execute_result"
    }
   ],
   "source": [
    "adj_list"
   ]
  },
  {
   "cell_type": "code",
   "execution_count": 14,
   "id": "b2fef14d",
   "metadata": {},
   "outputs": [],
   "source": [
    "from collections import deque\n",
    "\n",
    "class Graph:\n",
    "    # example of adjacency list (or rather map)\n",
    "    # adjacency_list = {\n",
    "    # 'A': [('B', 1), ('C', 3), ('D', 7)],\n",
    "    # 'B': [('D', 5)],\n",
    "    # 'C': [('D', 12)]\n",
    "    # }\n",
    "\n",
    "    def __init__(self, adjacency_list):\n",
    "        self.adjacency_list = adjacency_list\n",
    "\n",
    "    def get_neighbors(self, v):\n",
    "        return self.adjacency_list[v]\n",
    "\n",
    "    # heuristic function with equal values for all nodes\n",
    "    def h(self, n):\n",
    "        m=['A','B','C','D','E','F','G','H','I','J','K','L','M','N']\n",
    "        H={}\n",
    "        for i in range(len(m)):\n",
    "            H[m[i]]=1\n",
    "\n",
    "        return H[n]\n",
    "\n",
    "    def a_star_algorithm(self, start_node, stop_node):\n",
    "        # open_list is a list of nodes which have been visited, but who's neighbors\n",
    "        # haven't all been inspected, starts off with the start node\n",
    "        # closed_list is a list of nodes which have been visited\n",
    "        # and who's neighbors have been inspected\n",
    "        open_list = set([start_node])\n",
    "        closed_list = set([])\n",
    "\n",
    "        # g contains current distances from start_node to all other nodes\n",
    "        # the default value (if it's not found in the map) is +infinity\n",
    "        g = {}\n",
    "\n",
    "        g[start_node] = 0\n",
    "\n",
    "        # parents contains an adjacency map of all nodes\n",
    "        parents = {}\n",
    "        parents[start_node] = start_node\n",
    "\n",
    "        while len(open_list) > 0:\n",
    "            n = None\n",
    "\n",
    "            # find a node with the lowest value of f() - evaluation function\n",
    "            for v in open_list:\n",
    "                if n == None or g[v] + self.h(v) < g[n] + self.h(n):\n",
    "                    n = v;\n",
    "\n",
    "            if n == None:\n",
    "                print('Path does not exist!')\n",
    "                return None\n",
    "\n",
    "            # if the current node is the stop_node\n",
    "            # then we begin reconstructin the path from it to the start_node\n",
    "            if n == stop_node:\n",
    "                reconst_path = []\n",
    "\n",
    "                while parents[n] != n:\n",
    "                    reconst_path.append(n)\n",
    "                    n = parents[n]\n",
    "\n",
    "                reconst_path.append(start_node)\n",
    "\n",
    "                reconst_path.reverse()\n",
    "\n",
    "                print('Path found: {}'.format(reconst_path))\n",
    "                return reconst_path\n",
    "\n",
    "            # for all neighbors of the current node do\n",
    "            for (m, weight) in self.get_neighbors(n):\n",
    "                # if the current node isn't in both open_list and closed_list\n",
    "                # add it to open_list and note n as it's parent\n",
    "                if m not in open_list and m not in closed_list:\n",
    "                    open_list.add(m)\n",
    "                    parents[m] = n\n",
    "                    g[m] = g[n] + weight\n",
    "\n",
    "                # otherwise, check if it's quicker to first visit n, then m\n",
    "                # and if it is, update parent data and g data\n",
    "                # and if the node was in the closed_list, move it to open_list\n",
    "                else:\n",
    "                    if g[m] > g[n] + weight:\n",
    "                        g[m] = g[n] + weight\n",
    "                        parents[m] = n\n",
    "\n",
    "                        if m in closed_list:\n",
    "                            closed_list.remove(m)\n",
    "                            open_list.add(m)\n",
    "\n",
    "            # remove n from the open_list, and add it to closed_list\n",
    "            # because all of his neighbors were inspected\n",
    "            open_list.remove(n)\n",
    "            closed_list.add(n)\n",
    "\n",
    "        print('Path does not exist!')\n",
    "        return None"
   ]
  },
  {
   "cell_type": "code",
   "execution_count": 15,
   "id": "043b713b",
   "metadata": {},
   "outputs": [
    {
     "name": "stdout",
     "output_type": "stream",
     "text": [
      "Path found: ['A', 'C', 'D', 'E', 'F', 'G', 'K', 'L']\n"
     ]
    }
   ],
   "source": [
    "graph1 = Graph(adj_list)\n",
    "k=graph1.a_star_algorithm('A', 'L')"
   ]
  },
  {
   "cell_type": "code",
   "execution_count": 81,
   "id": "8dfb0904",
   "metadata": {},
   "outputs": [
    {
     "data": {
      "text/plain": [
       "['A', 'C', 'D', 'E', 'F', 'G', 'K', 'L']"
      ]
     },
     "execution_count": 81,
     "metadata": {},
     "output_type": "execute_result"
    }
   ],
   "source": [
    "k"
   ]
  },
  {
   "cell_type": "code",
   "execution_count": 16,
   "id": "297f5030",
   "metadata": {},
   "outputs": [],
   "source": [
    "v  = [dict[key] for key in k]"
   ]
  },
  {
   "cell_type": "code",
   "execution_count": 17,
   "id": "f944934b",
   "metadata": {},
   "outputs": [
    {
     "data": {
      "text/plain": [
       "[[2, -2], [9, -1], [9, 11], [0, 11], [0, 3], [5, 3], [8, 9], [4, 6]]"
      ]
     },
     "execution_count": 17,
     "metadata": {},
     "output_type": "execute_result"
    }
   ],
   "source": [
    "v"
   ]
  },
  {
   "cell_type": "code",
   "execution_count": 19,
   "id": "bb400032",
   "metadata": {},
   "outputs": [
    {
     "data": {
      "image/png": "[encoded data removed]",
      "text/plain": [
       "<Figure size 432x288 with 1 Axes>"
      ]
     },
     "metadata": {
      "needs_background": "light"
     },
     "output_type": "display_data"
    }
   ],
   "source": [
    "import itertools\n",
    "import matplotlib.pyplot as plt\n",
    "\n",
    "\n",
    "#Creating polygonal environment \n",
    "coord = [[0,-1], [9,-1], [9,11], [0,11], [0,3],[5,3],[5,5],[1,5],[1,9],[8,9],[8,0],[0,0]]\n",
    "coord.append(coord[0])  \n",
    "\n",
    "# Goal Node\n",
    "coord1 = [[4,6],[4.06,6],[4.06,5.94],[4,5.94]]\n",
    "coord1.append(coord1[0])  \n",
    "\n",
    "# Start Node\n",
    "coord2 = [[2,-2],[2,-1.94],[2.06,-2],[2.06,-2]]\n",
    "coord2.append(coord2[0]) \n",
    "\n",
    "#Creating Visibility Graph\n",
    "\n",
    "l=[[[0,-1],[9,-1]],\n",
    "   [[0,0],[9,-1]],\n",
    "   [[9,11]],\n",
    "   [[0,11]],\n",
    "   [[0,3]],\n",
    "   [[0,0],[5,3],[8,0]],\n",
    "   [[0,0],[8,0],[8,9],[5,5]],\n",
    "   [[5,5],[8,0],[8,9]],\n",
    "   [[1,9],[4,6],[8,9],[5,5]],\n",
    "   [[8,9],[5,5],[4,6]],\n",
    "   [[5,3],[5,5],[1,5],[8,0],[4,6]],\n",
    "   [[5,5]],\n",
    "   [[0,0]],\n",
    "   [[0,-1]]]\n",
    "c=[[2,-2],[0,-1],[9,-1],[9,11],[0,11],[0,3],[5,3],[5,5],[1,5],[1,9],[8,9],[4,6],[8,0],[0,0]]\n",
    "coord3=[]\n",
    "for i in range(len(c)):\n",
    "    for k in l[i]:\n",
    "        coord3.append((c[i],k))\n",
    "    \n",
    "coord3 = list(itertools.chain(*coord3))\n",
    "\n",
    "xc, yc = zip(*coord3)\n",
    "xs, ys = zip(*coord) # create lists of x and y values\n",
    "xa, ya = zip(*coord1)\n",
    "xb, yb = zip(*coord2)\n",
    "\n",
    "short_path = [[2, -2], [0, -1], [0, 0], [5, 3], [5, 5], [4,6]]\n",
    "\n",
    "bug0_path = [[2, -2], [0, -1], [0, 0], [8, 0], [8, 9], [1, 9], [1, 5], [5, 5], [5, 3],\n",
    "            [0, 3], [0, 11], [9, 11], [9, -1], [0, -1]]\n",
    "    \n",
    "# coord_short = list(itertools.chain(*short_path))\n",
    "\n",
    "xcor, ycor = zip(*v)\n",
    "xbug0, ybug0 = zip(*bug0_path)\n",
    "\n",
    "plt.figure()\n",
    "plt.plot(xs,ys) \n",
    "plt.plot(xa,ya)\n",
    "plt.plot(xb,yb)\n",
    "plt.plot(xc,yc)\n",
    "plt.plot(xcor, ycor, c='blue')\n",
    "# plt.plot(xbug0, ybug0, c='green')\n",
    "plt.xlim(-7,13)\n",
    "plt.ylim(-7,13)\n",
    "plt.show() "
   ]
  }
 ],
 "metadata": {
  "kernelspec": {
   "display_name": "Python 3 (ipykernel)",
   "language": "python",
   "name": "python3"
  },
  "language_info": {
   "codemirror_mode": {
    "name": "ipython",
    "version": 3
   },
   "file_extension": ".py",
   "mimetype": "text/x-python",
   "name": "python",
   "nbconvert_exporter": "python",
   "pygments_lexer": "ipython3",
   "version": "3.9.12"
  }
 },
 "nbformat": 4,
 "nbformat_minor": 5
}
